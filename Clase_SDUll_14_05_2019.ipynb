{
  "nbformat": 4,
  "nbformat_minor": 0,
  "metadata": {
    "colab": {
      "name": "Clase_SDUll_14/05/2019.ipynb",
      "version": "0.3.2",
      "provenance": [],
      "include_colab_link": true
    },
    "kernelspec": {
      "name": "python3",
      "display_name": "Python 3"
    }
  },
  "cells": [
    {
      "cell_type": "markdown",
      "metadata": {
        "id": "view-in-github",
        "colab_type": "text"
      },
      "source": [
        "<a href=\"https://colab.research.google.com/github/tohocho/SistemasDistribuidosll/blob/master/Clase_SDUll_14_05_2019.ipynb\" target=\"_parent\"><img src=\"https://colab.research.google.com/assets/colab-badge.svg\" alt=\"Open In Colab\"/></a>"
      ]
    },
    {
      "cell_type": "markdown",
      "metadata": {
        "id": "6J1ReTJC67EU",
        "colab_type": "text"
      },
      "source": [
        "#Semana 2\n",
        "\n",
        " - Descargar datos de NYCT (New York City Taxis)"
      ]
    },
    {
      "cell_type": "code",
      "metadata": {
        "id": "Ozcc2KYB56QS",
        "colab_type": "code",
        "colab": {}
      },
      "source": [
        "import numpy as np\n",
        "import pandas as pd\n",
        "import psutil, os\n",
        "import matplotlib.pyplot as plt"
      ],
      "execution_count": 0,
      "outputs": []
    },
    {
      "cell_type": "code",
      "metadata": {
        "id": "_9tLfXVxCfpB",
        "colab_type": "code",
        "colab": {
          "base_uri": "https://localhost:8080/",
          "height": 202
        },
        "outputId": "7e36f507-641a-43a0-ffdf-8309ae18d65f"
      },
      "source": [
        "!wget https://s3.amazonaws.com/nyc-tlc/trip+data/yellow_tripdata_2018-01.csv"
      ],
      "execution_count": 1,
      "outputs": [
        {
          "output_type": "stream",
          "text": [
            "--2019-05-14 15:53:08--  https://s3.amazonaws.com/nyc-tlc/trip+data/yellow_tripdata_2018-01.csv\n",
            "Resolving s3.amazonaws.com (s3.amazonaws.com)... 52.216.112.125\n",
            "Connecting to s3.amazonaws.com (s3.amazonaws.com)|52.216.112.125|:443... connected.\n",
            "HTTP request sent, awaiting response... 200 OK\n",
            "Length: 772098307 (736M) [text/csv]\n",
            "Saving to: ‘yellow_tripdata_2018-01.csv’\n",
            "\n",
            "yellow_tripdata_201 100%[===================>] 736.33M  88.7MB/s    in 8.1s    \n",
            "\n",
            "2019-05-14 15:53:16 (90.7 MB/s) - ‘yellow_tripdata_2018-01.csv’ saved [772098307/772098307]\n",
            "\n"
          ],
          "name": "stdout"
        }
      ]
    },
    {
      "cell_type": "code",
      "metadata": {
        "id": "QFPubzVVDpz3",
        "colab_type": "code",
        "colab": {
          "base_uri": "https://localhost:8080/",
          "height": 34
        },
        "outputId": "52a1bcbb-beaf-45aa-c9cb-b2471bd1ee27"
      },
      "source": [
        "!wc -l yellow_tripdata_2018-01.csv"
      ],
      "execution_count": 4,
      "outputs": [
        {
          "output_type": "stream",
          "text": [
            "8759876 yellow_tripdata_2018-01.csv\n"
          ],
          "name": "stdout"
        }
      ]
    },
    {
      "cell_type": "markdown",
      "metadata": {
        "id": "p8jmqTRREVHU",
        "colab_type": "text"
      },
      "source": [
        "Vamos a escribir un programa para automatizar ladescarga de todo 2018"
      ]
    },
    {
      "cell_type": "code",
      "metadata": {
        "id": "RDsJmDCGEeig",
        "colab_type": "code",
        "colab": {}
      },
      "source": [
        "plantilla ='yellow_tripdata_2018-{:02d}.csv'\n",
        "plantillaURL = 'wget https://s3.amazonaws.com/nyc-tlc/trip+data/' + plantilla"
      ],
      "execution_count": 0,
      "outputs": []
    },
    {
      "cell_type": "code",
      "metadata": {
        "id": "APLf_NCmFGtU",
        "colab_type": "code",
        "colab": {}
      },
      "source": [
        "for y in range (1,13):\n",
        "  print (plantillaURL.format(y))"
      ],
      "execution_count": 0,
      "outputs": []
    },
    {
      "cell_type": "code",
      "metadata": {
        "id": "wx-0gvC7F5VI",
        "colab_type": "code",
        "colab": {}
      },
      "source": [
        "comandos = [plantillaURL.format(y) for y in range (1,13)]"
      ],
      "execution_count": 0,
      "outputs": []
    },
    {
      "cell_type": "code",
      "metadata": {
        "id": "IqaFFTckGTXY",
        "colab_type": "code",
        "colab": {}
      },
      "source": [
        "comandos"
      ],
      "execution_count": 0,
      "outputs": []
    },
    {
      "cell_type": "code",
      "metadata": {
        "id": "3R30FKlzGy6n",
        "colab_type": "code",
        "colab": {
          "base_uri": "https://localhost:8080/",
          "height": 34
        },
        "outputId": "c30f1c3e-48c3-41c1-a962-ddf931cda207"
      },
      "source": [
        "(plantillaURL.format(y) for y in range (1,13))"
      ],
      "execution_count": 16,
      "outputs": [
        {
          "output_type": "execute_result",
          "data": {
            "text/plain": [
              "<generator object <genexpr> at 0x7f441ac78fc0>"
            ]
          },
          "metadata": {
            "tags": []
          },
          "execution_count": 16
        }
      ]
    },
    {
      "cell_type": "code",
      "metadata": {
        "id": "BRy_GpynHUNt",
        "colab_type": "code",
        "colab": {}
      },
      "source": [
        "# vamos a descargar los datos usando la instrucción en lista de comandos\n",
        "comandos = [plantillaURL.format(y) for y in range (1,4)]\n",
        "for cmd in comandos:\n",
        "  os.system(cmd)\n",
        "  "
      ],
      "execution_count": 0,
      "outputs": []
    },
    {
      "cell_type": "markdown",
      "metadata": {
        "id": "LZdn_bPNINoI",
        "colab_type": "text"
      },
      "source": [
        "#Accediendo a los datos con pandas"
      ]
    },
    {
      "cell_type": "code",
      "metadata": {
        "id": "z8tI73wDIMzw",
        "colab_type": "code",
        "colab": {}
      },
      "source": [
        "archivo = 'yellow_tripdata_2018-01.csv'"
      ],
      "execution_count": 0,
      "outputs": []
    },
    {
      "cell_type": "code",
      "metadata": {
        "id": "IyuANMT_IT61",
        "colab_type": "code",
        "colab": {}
      },
      "source": [
        "df = pd.read_csv(archivo)"
      ],
      "execution_count": 0,
      "outputs": []
    },
    {
      "cell_type": "code",
      "metadata": {
        "id": "iyquwfoqIv3b",
        "colab_type": "code",
        "colab": {
          "base_uri": "https://localhost:8080/",
          "height": 34
        },
        "outputId": "44f4144e-1ca0-43c4-b7d0-52258facbbb4"
      },
      "source": [
        "sum(df.memory_usage(index=False)/(1024**2))"
      ],
      "execution_count": 22,
      "outputs": [
        {
          "output_type": "execute_result",
          "data": {
            "text/plain": [
              "1136.153091430664"
            ]
          },
          "metadata": {
            "tags": []
          },
          "execution_count": 22
        }
      ]
    },
    {
      "cell_type": "code",
      "metadata": {
        "id": "p9wskGUbLBaU",
        "colab_type": "code",
        "colab": {}
      },
      "source": [
        ""
      ],
      "execution_count": 0,
      "outputs": []
    },
    {
      "cell_type": "code",
      "metadata": {
        "id": "B7QleSVwJ0VB",
        "colab_type": "code",
        "colab": {}
      },
      "source": [
        "for trozo in pd.read_csv(archivo, chunksize=50000):\n",
        "  print('type: %s shape %s' % (type(trozo), trozo.shape))"
      ],
      "execution_count": 0,
      "outputs": []
    },
    {
      "cell_type": "code",
      "metadata": {
        "id": "ciqMIsq7Kmdd",
        "colab_type": "code",
        "colab": {
          "base_uri": "https://localhost:8080/",
          "height": 34
        },
        "outputId": "ee51a0b9-549d-4688-953b-aaccb4674d68"
      },
      "source": [
        "trozo.shape"
      ],
      "execution_count": 27,
      "outputs": [
        {
          "output_type": "execute_result",
          "data": {
            "text/plain": [
              "(9874, 17)"
            ]
          },
          "metadata": {
            "tags": []
          },
          "execution_count": 27
        }
      ]
    },
    {
      "cell_type": "code",
      "metadata": {
        "id": "R1FI6ZeUL7hs",
        "colab_type": "code",
        "colab": {
          "base_uri": "https://localhost:8080/",
          "height": 215
        },
        "outputId": "6fb0fc66-de29-4c92-b6e3-5cb8f4dd6d49"
      },
      "source": [
        "trozo.head()"
      ],
      "execution_count": 32,
      "outputs": [
        {
          "output_type": "execute_result",
          "data": {
            "text/html": [
              "<div>\n",
              "<style scoped>\n",
              "    .dataframe tbody tr th:only-of-type {\n",
              "        vertical-align: middle;\n",
              "    }\n",
              "\n",
              "    .dataframe tbody tr th {\n",
              "        vertical-align: top;\n",
              "    }\n",
              "\n",
              "    .dataframe thead th {\n",
              "        text-align: right;\n",
              "    }\n",
              "</style>\n",
              "<table border=\"1\" class=\"dataframe\">\n",
              "  <thead>\n",
              "    <tr style=\"text-align: right;\">\n",
              "      <th></th>\n",
              "      <th>VendorID</th>\n",
              "      <th>tpep_pickup_datetime</th>\n",
              "      <th>tpep_dropoff_datetime</th>\n",
              "      <th>passenger_count</th>\n",
              "      <th>trip_distance</th>\n",
              "      <th>RatecodeID</th>\n",
              "      <th>store_and_fwd_flag</th>\n",
              "      <th>PULocationID</th>\n",
              "      <th>DOLocationID</th>\n",
              "      <th>payment_type</th>\n",
              "      <th>fare_amount</th>\n",
              "      <th>extra</th>\n",
              "      <th>mta_tax</th>\n",
              "      <th>tip_amount</th>\n",
              "      <th>tolls_amount</th>\n",
              "      <th>improvement_surcharge</th>\n",
              "      <th>total_amount</th>\n",
              "    </tr>\n",
              "  </thead>\n",
              "  <tbody>\n",
              "    <tr>\n",
              "      <th>8750000</th>\n",
              "      <td>2</td>\n",
              "      <td>2018-01-31 23:36:22</td>\n",
              "      <td>2018-01-31 23:46:11</td>\n",
              "      <td>1</td>\n",
              "      <td>1.8</td>\n",
              "      <td>1</td>\n",
              "      <td>N</td>\n",
              "      <td>162</td>\n",
              "      <td>186</td>\n",
              "      <td>1</td>\n",
              "      <td>8.5</td>\n",
              "      <td>0.5</td>\n",
              "      <td>0.5</td>\n",
              "      <td>1.96</td>\n",
              "      <td>0.0</td>\n",
              "      <td>0.3</td>\n",
              "      <td>11.76</td>\n",
              "    </tr>\n",
              "    <tr>\n",
              "      <th>8750001</th>\n",
              "      <td>1</td>\n",
              "      <td>2018-01-31 23:41:34</td>\n",
              "      <td>2018-01-31 23:45:40</td>\n",
              "      <td>2</td>\n",
              "      <td>1.0</td>\n",
              "      <td>1</td>\n",
              "      <td>N</td>\n",
              "      <td>234</td>\n",
              "      <td>79</td>\n",
              "      <td>1</td>\n",
              "      <td>5.5</td>\n",
              "      <td>0.5</td>\n",
              "      <td>0.5</td>\n",
              "      <td>2.00</td>\n",
              "      <td>0.0</td>\n",
              "      <td>0.3</td>\n",
              "      <td>8.80</td>\n",
              "    </tr>\n",
              "    <tr>\n",
              "      <th>8750002</th>\n",
              "      <td>1</td>\n",
              "      <td>2018-01-31 23:26:35</td>\n",
              "      <td>2018-01-31 23:29:48</td>\n",
              "      <td>2</td>\n",
              "      <td>0.6</td>\n",
              "      <td>1</td>\n",
              "      <td>N</td>\n",
              "      <td>234</td>\n",
              "      <td>170</td>\n",
              "      <td>1</td>\n",
              "      <td>4.5</td>\n",
              "      <td>0.5</td>\n",
              "      <td>0.5</td>\n",
              "      <td>1.15</td>\n",
              "      <td>0.0</td>\n",
              "      <td>0.3</td>\n",
              "      <td>6.95</td>\n",
              "    </tr>\n",
              "    <tr>\n",
              "      <th>8750003</th>\n",
              "      <td>1</td>\n",
              "      <td>2018-01-31 23:15:56</td>\n",
              "      <td>2018-01-31 23:16:09</td>\n",
              "      <td>1</td>\n",
              "      <td>9.6</td>\n",
              "      <td>1</td>\n",
              "      <td>N</td>\n",
              "      <td>77</td>\n",
              "      <td>77</td>\n",
              "      <td>3</td>\n",
              "      <td>2.5</td>\n",
              "      <td>0.5</td>\n",
              "      <td>0.5</td>\n",
              "      <td>0.00</td>\n",
              "      <td>0.0</td>\n",
              "      <td>0.3</td>\n",
              "      <td>3.80</td>\n",
              "    </tr>\n",
              "    <tr>\n",
              "      <th>8750004</th>\n",
              "      <td>1</td>\n",
              "      <td>2018-01-31 23:17:26</td>\n",
              "      <td>2018-01-31 23:17:42</td>\n",
              "      <td>1</td>\n",
              "      <td>9.6</td>\n",
              "      <td>1</td>\n",
              "      <td>N</td>\n",
              "      <td>77</td>\n",
              "      <td>77</td>\n",
              "      <td>3</td>\n",
              "      <td>2.5</td>\n",
              "      <td>0.5</td>\n",
              "      <td>0.5</td>\n",
              "      <td>0.00</td>\n",
              "      <td>0.0</td>\n",
              "      <td>0.3</td>\n",
              "      <td>3.80</td>\n",
              "    </tr>\n",
              "  </tbody>\n",
              "</table>\n",
              "</div>"
            ],
            "text/plain": [
              "         VendorID tpep_pickup_datetime tpep_dropoff_datetime  passenger_count  \\\n",
              "8750000         2  2018-01-31 23:36:22   2018-01-31 23:46:11                1   \n",
              "8750001         1  2018-01-31 23:41:34   2018-01-31 23:45:40                2   \n",
              "8750002         1  2018-01-31 23:26:35   2018-01-31 23:29:48                2   \n",
              "8750003         1  2018-01-31 23:15:56   2018-01-31 23:16:09                1   \n",
              "8750004         1  2018-01-31 23:17:26   2018-01-31 23:17:42                1   \n",
              "\n",
              "         trip_distance  RatecodeID store_and_fwd_flag  PULocationID  \\\n",
              "8750000            1.8           1                  N           162   \n",
              "8750001            1.0           1                  N           234   \n",
              "8750002            0.6           1                  N           234   \n",
              "8750003            9.6           1                  N            77   \n",
              "8750004            9.6           1                  N            77   \n",
              "\n",
              "         DOLocationID  payment_type  fare_amount  extra  mta_tax  tip_amount  \\\n",
              "8750000           186             1          8.5    0.5      0.5        1.96   \n",
              "8750001            79             1          5.5    0.5      0.5        2.00   \n",
              "8750002           170             1          4.5    0.5      0.5        1.15   \n",
              "8750003            77             3          2.5    0.5      0.5        0.00   \n",
              "8750004            77             3          2.5    0.5      0.5        0.00   \n",
              "\n",
              "         tolls_amount  improvement_surcharge  total_amount  \n",
              "8750000           0.0                    0.3         11.76  \n",
              "8750001           0.0                    0.3          8.80  \n",
              "8750002           0.0                    0.3          6.95  \n",
              "8750003           0.0                    0.3          3.80  \n",
              "8750004           0.0                    0.3          3.80  "
            ]
          },
          "metadata": {
            "tags": []
          },
          "execution_count": 32
        }
      ]
    },
    {
      "cell_type": "markdown",
      "metadata": {
        "id": "MD6GMMmKOZ1q",
        "colab_type": "text"
      },
      "source": [
        "Vamos a definir una condición de `es_un_viaje_largo` si el valor en la coumna de `trip_distance` es mayor a 10 millas (aproximadamente 16km)"
      ]
    },
    {
      "cell_type": "code",
      "metadata": {
        "id": "YHtFasl1Orhk",
        "colab_type": "code",
        "colab": {
          "base_uri": "https://localhost:8080/",
          "height": 118
        },
        "outputId": "6d259f61-5f3d-4744-a73d-e5e5fa964f14"
      },
      "source": [
        "es_un_viaje_largo = (trozo.trip_distance > 10)\n",
        "es_un_viaje_largo.head()"
      ],
      "execution_count": 35,
      "outputs": [
        {
          "output_type": "execute_result",
          "data": {
            "text/plain": [
              "8750000    False\n",
              "8750001    False\n",
              "8750002    False\n",
              "8750003    False\n",
              "8750004    False\n",
              "Name: trip_distance, dtype: bool"
            ]
          },
          "metadata": {
            "tags": []
          },
          "execution_count": 35
        }
      ]
    },
    {
      "cell_type": "code",
      "metadata": {
        "id": "cKPRpR-UPOPu",
        "colab_type": "code",
        "colab": {
          "base_uri": "https://localhost:8080/",
          "height": 34
        },
        "outputId": "eb2244b7-0c26-466a-c2c5-c015850ce2c7"
      },
      "source": [
        "trozo.loc[es_un_viaje_largo].shape"
      ],
      "execution_count": 37,
      "outputs": [
        {
          "output_type": "execute_result",
          "data": {
            "text/plain": [
              "(431, 17)"
            ]
          },
          "metadata": {
            "tags": []
          },
          "execution_count": 37
        }
      ]
    },
    {
      "cell_type": "markdown",
      "metadata": {
        "id": "SoQzrhSFPrqw",
        "colab_type": "text"
      },
      "source": [
        "Encapsular esta operación de filtrado en una función"
      ]
    },
    {
      "cell_type": "code",
      "metadata": {
        "id": "uzJq78RQPzgH",
        "colab_type": "code",
        "colab": {}
      },
      "source": [
        "def filtra_es_un_viaje_largo(data):\n",
        "  es_un_viaje_largo = (data.trip_distance > 10)\n",
        "  return data.loc[es_un_viaje_largo]"
      ],
      "execution_count": 0,
      "outputs": []
    },
    {
      "cell_type": "code",
      "metadata": {
        "id": "dP4zhhFtQDDx",
        "colab_type": "code",
        "colab": {}
      },
      "source": [
        "trozos = []\n",
        "for trozo in pd.read_csv(archivo, chunksize=500000):\n",
        "  trozos.append(filtra_es_un_viaje_largo(trozo))"
      ],
      "execution_count": 0,
      "outputs": []
    },
    {
      "cell_type": "code",
      "metadata": {
        "id": "OUEdXyAIQy-v",
        "colab_type": "code",
        "colab": {
          "base_uri": "https://localhost:8080/",
          "height": 34
        },
        "outputId": "dc9bdecb-a6a6-4bf1-c266-7a3e87d168ee"
      },
      "source": [
        "len(trozos)"
      ],
      "execution_count": 40,
      "outputs": [
        {
          "output_type": "execute_result",
          "data": {
            "text/plain": [
              "18"
            ]
          },
          "metadata": {
            "tags": []
          },
          "execution_count": 40
        }
      ]
    },
    {
      "cell_type": "markdown",
      "metadata": {
        "id": "dDr12HtMRZKG",
        "colab_type": "text"
      },
      "source": [
        "Es conveniente usar **comprensión de lista** para generar la lista anterior"
      ]
    },
    {
      "cell_type": "code",
      "metadata": {
        "id": "JcD9c69zRHa_",
        "colab_type": "code",
        "colab": {
          "base_uri": "https://localhost:8080/",
          "height": 34
        },
        "outputId": "a99fc878-58d4-4a8d-9bbe-8a0d9ab3c184"
      },
      "source": [
        "trozos = [filtra_es_un_viaje_largo(trozo) for trozo in pd.read_csv(archivo, chunksize=500000)]\n",
        "len(trozos)"
      ],
      "execution_count": 41,
      "outputs": [
        {
          "output_type": "execute_result",
          "data": {
            "text/plain": [
              "18"
            ]
          },
          "metadata": {
            "tags": []
          },
          "execution_count": 41
        }
      ]
    },
    {
      "cell_type": "code",
      "metadata": {
        "id": "nPbrSuBqR_Qg",
        "colab_type": "code",
        "colab": {
          "base_uri": "https://localhost:8080/",
          "height": 34
        },
        "outputId": "5d15cd56-8ceb-411b-c628-a2ecb83ff548"
      },
      "source": [
        "tamaño = [len(trozo) for trozo in trozos]\n",
        "sum(tamaño)"
      ],
      "execution_count": 47,
      "outputs": [
        {
          "output_type": "execute_result",
          "data": {
            "text/plain": [
              "466814"
            ]
          },
          "metadata": {
            "tags": []
          },
          "execution_count": 47
        }
      ]
    },
    {
      "cell_type": "code",
      "metadata": {
        "id": "WGrgdrLRSMuW",
        "colab_type": "code",
        "colab": {
          "base_uri": "https://localhost:8080/",
          "height": 34
        },
        "outputId": "6216d879-6c3f-44a8-83cd-c3d4a64dcde2"
      },
      "source": [
        "np.mean(tamaño)"
      ],
      "execution_count": 46,
      "outputs": [
        {
          "output_type": "execute_result",
          "data": {
            "text/plain": [
              "25934.11111111111"
            ]
          },
          "metadata": {
            "tags": []
          },
          "execution_count": 46
        }
      ]
    },
    {
      "cell_type": "markdown",
      "metadata": {
        "id": "vmRjSzffSkkP",
        "colab_type": "text"
      },
      "source": [
        "Vamos a concatenar todos estos trozos en una nueva estructura de datos **DataFrame**, dicha estructura deberá tener cuantos registros?"
      ]
    },
    {
      "cell_type": "code",
      "metadata": {
        "id": "Unp8JpYGSVRt",
        "colab_type": "code",
        "colab": {
          "base_uri": "https://localhost:8080/",
          "height": 34
        },
        "outputId": "e189a2eb-4984-43b1-90ca-ca681e73e03d"
      },
      "source": [
        "viajes_largos_df = pd.concat(trozos)\n",
        "viajes_largos_df.shape"
      ],
      "execution_count": 49,
      "outputs": [
        {
          "output_type": "execute_result",
          "data": {
            "text/plain": [
              "(466814, 17)"
            ]
          },
          "metadata": {
            "tags": []
          },
          "execution_count": 49
        }
      ]
    },
    {
      "cell_type": "markdown",
      "metadata": {
        "id": "Q1uZh3zGTklj",
        "colab_type": "text"
      },
      "source": [
        "Ahora vamos a visualizar parte de los datos filtrados"
      ]
    },
    {
      "cell_type": "code",
      "metadata": {
        "id": "6k3BggapTi5_",
        "colab_type": "code",
        "colab": {
          "base_uri": "https://localhost:8080/",
          "height": 313
        },
        "outputId": "dae4dec7-fae9-4038-c953-6b60b6b543eb"
      },
      "source": [
        "viajes_largos_df.plot.scatter(y='fare_amount', x='trip_distance', title='Viajes largos > 10', xlim=(0,140), ylim=(0,600))"
      ],
      "execution_count": 57,
      "outputs": [
        {
          "output_type": "execute_result",
          "data": {
            "text/plain": [
              "<matplotlib.axes._subplots.AxesSubplot at 0x7f43f26453c8>"
            ]
          },
          "metadata": {
            "tags": []
          },
          "execution_count": 57
        },
        {
          "output_type": "display_data",
          "data": {
            "image/png": "[encoded data removed]",
            "text/plain": [
              "<Figure size 432x288 with 1 Axes>"
            ]
          },
          "metadata": {
            "tags": []
          }
        }
      ]
    },
    {
      "cell_type": "markdown",
      "metadata": {
        "id": "twFIWYN4Xuxb",
        "colab_type": "text"
      },
      "source": [
        "#Generadores"
      ]
    },
    {
      "cell_type": "code",
      "metadata": {
        "id": "V3p3tWmOWKlA",
        "colab_type": "code",
        "colab": {
          "base_uri": "https://localhost:8080/",
          "height": 34
        },
        "outputId": "8d14c64e-7b15-4363-bdb3-d215941e036e"
      },
      "source": [
        "trozos = (filtra_es_un_viaje_largo(trozo) for trozo in pd.read_csv(archivo, chunksize=500000))\n",
        "trozos"
      ],
      "execution_count": 70,
      "outputs": [
        {
          "output_type": "execute_result",
          "data": {
            "text/plain": [
              "<generator object <genexpr> at 0x7f43fe5ab4c0>"
            ]
          },
          "metadata": {
            "tags": []
          },
          "execution_count": 70
        }
      ]
    },
    {
      "cell_type": "code",
      "metadata": {
        "id": "fl1QG3vIZLj0",
        "colab_type": "code",
        "colab": {
          "base_uri": "https://localhost:8080/",
          "height": 319
        },
        "outputId": "b862272f-353b-4ff0-84a0-452aea78b754"
      },
      "source": [
        "[trozo['trip_distance'].sum() for trozo in trozos]"
      ],
      "execution_count": 67,
      "outputs": [
        {
          "output_type": "execute_result",
          "data": {
            "text/plain": [
              "[579487.8400000001,\n",
              " 386443.42000000004,\n",
              " 433314.4,\n",
              " 496842.47,\n",
              " 400113.88,\n",
              " 414900.72,\n",
              " 362745.43,\n",
              " 476153.82999999996,\n",
              " 390090.69,\n",
              " 363877.14,\n",
              " 350500.29000000004,\n",
              " 458973.98,\n",
              " 373223.47,\n",
              " 372922.38999999996,\n",
              " 338968.49000000005,\n",
              " 418938.05,\n",
              " 547242.93,\n",
              " 174890.21000000002]"
            ]
          },
          "metadata": {
            "tags": []
          },
          "execution_count": 67
        }
      ]
    },
    {
      "cell_type": "code",
      "metadata": {
        "id": "wgnLNxOWY0Vp",
        "colab_type": "code",
        "colab": {}
      },
      "source": [
        "distancias = (trozo['trip_distance'].sum() for trozo in trozos)"
      ],
      "execution_count": 0,
      "outputs": []
    },
    {
      "cell_type": "code",
      "metadata": {
        "id": "PNJ6pFOdZkAz",
        "colab_type": "code",
        "colab": {
          "base_uri": "https://localhost:8080/",
          "height": 34
        },
        "outputId": "8d8786b6-c920-4f89-c7f0-9b2b50b034e1"
      },
      "source": [
        "sum(distancias)"
      ],
      "execution_count": 72,
      "outputs": [
        {
          "output_type": "execute_result",
          "data": {
            "text/plain": [
              "7339629.629999999"
            ]
          },
          "metadata": {
            "tags": []
          },
          "execution_count": 72
        }
      ]
    },
    {
      "cell_type": "markdown",
      "metadata": {
        "id": "kOVJY8KwbF9Z",
        "colab_type": "text"
      },
      "source": [
        "Vamos a leer muchos archivos"
      ]
    },
    {
      "cell_type": "code",
      "metadata": {
        "id": "ueeJ4zHxa668",
        "colab_type": "code",
        "colab": {}
      },
      "source": [
        "df = pd.read_csv('yellow_tripdata_2018-01.csv', parse_dates=[1,2])"
      ],
      "execution_count": 0,
      "outputs": []
    },
    {
      "cell_type": "code",
      "metadata": {
        "id": "a8AWynJbbbSK",
        "colab_type": "code",
        "colab": {
          "base_uri": "https://localhost:8080/",
          "height": 386
        },
        "outputId": "8c5196c2-5403-49e1-bdf4-dbc63af65e7a"
      },
      "source": [
        "df.info()"
      ],
      "execution_count": 76,
      "outputs": [
        {
          "output_type": "stream",
          "text": [
            "<class 'pandas.core.frame.DataFrame'>\n",
            "RangeIndex: 8759874 entries, 0 to 8759873\n",
            "Data columns (total 17 columns):\n",
            "VendorID                 int64\n",
            "tpep_pickup_datetime     datetime64[ns]\n",
            "tpep_dropoff_datetime    datetime64[ns]\n",
            "passenger_count          int64\n",
            "trip_distance            float64\n",
            "RatecodeID               int64\n",
            "store_and_fwd_flag       object\n",
            "PULocationID             int64\n",
            "DOLocationID             int64\n",
            "payment_type             int64\n",
            "fare_amount              float64\n",
            "extra                    float64\n",
            "mta_tax                  float64\n",
            "tip_amount               float64\n",
            "tolls_amount             float64\n",
            "improvement_surcharge    float64\n",
            "total_amount             float64\n",
            "dtypes: datetime64[ns](2), float64(8), int64(6), object(1)\n",
            "memory usage: 1.1+ GB\n"
          ],
          "name": "stdout"
        }
      ]
    },
    {
      "cell_type": "code",
      "metadata": {
        "id": "73ChUfNDbdKw",
        "colab_type": "code",
        "colab": {
          "base_uri": "https://localhost:8080/",
          "height": 215
        },
        "outputId": "368b480b-fe7f-425c-f71a-32bfda6abea8"
      },
      "source": [
        "df.head()"
      ],
      "execution_count": 77,
      "outputs": [
        {
          "output_type": "execute_result",
          "data": {
            "text/html": [
              "<div>\n",
              "<style scoped>\n",
              "    .dataframe tbody tr th:only-of-type {\n",
              "        vertical-align: middle;\n",
              "    }\n",
              "\n",
              "    .dataframe tbody tr th {\n",
              "        vertical-align: top;\n",
              "    }\n",
              "\n",
              "    .dataframe thead th {\n",
              "        text-align: right;\n",
              "    }\n",
              "</style>\n",
              "<table border=\"1\" class=\"dataframe\">\n",
              "  <thead>\n",
              "    <tr style=\"text-align: right;\">\n",
              "      <th></th>\n",
              "      <th>VendorID</th>\n",
              "      <th>tpep_pickup_datetime</th>\n",
              "      <th>tpep_dropoff_datetime</th>\n",
              "      <th>passenger_count</th>\n",
              "      <th>trip_distance</th>\n",
              "      <th>RatecodeID</th>\n",
              "      <th>store_and_fwd_flag</th>\n",
              "      <th>PULocationID</th>\n",
              "      <th>DOLocationID</th>\n",
              "      <th>payment_type</th>\n",
              "      <th>fare_amount</th>\n",
              "      <th>extra</th>\n",
              "      <th>mta_tax</th>\n",
              "      <th>tip_amount</th>\n",
              "      <th>tolls_amount</th>\n",
              "      <th>improvement_surcharge</th>\n",
              "      <th>total_amount</th>\n",
              "    </tr>\n",
              "  </thead>\n",
              "  <tbody>\n",
              "    <tr>\n",
              "      <th>0</th>\n",
              "      <td>1</td>\n",
              "      <td>2018-01-01 00:21:05</td>\n",
              "      <td>2018-01-01 00:24:23</td>\n",
              "      <td>1</td>\n",
              "      <td>0.5</td>\n",
              "      <td>1</td>\n",
              "      <td>N</td>\n",
              "      <td>41</td>\n",
              "      <td>24</td>\n",
              "      <td>2</td>\n",
              "      <td>4.5</td>\n",
              "      <td>0.5</td>\n",
              "      <td>0.5</td>\n",
              "      <td>0.00</td>\n",
              "      <td>0.0</td>\n",
              "      <td>0.3</td>\n",
              "      <td>5.80</td>\n",
              "    </tr>\n",
              "    <tr>\n",
              "      <th>1</th>\n",
              "      <td>1</td>\n",
              "      <td>2018-01-01 00:44:55</td>\n",
              "      <td>2018-01-01 01:03:05</td>\n",
              "      <td>1</td>\n",
              "      <td>2.7</td>\n",
              "      <td>1</td>\n",
              "      <td>N</td>\n",
              "      <td>239</td>\n",
              "      <td>140</td>\n",
              "      <td>2</td>\n",
              "      <td>14.0</td>\n",
              "      <td>0.5</td>\n",
              "      <td>0.5</td>\n",
              "      <td>0.00</td>\n",
              "      <td>0.0</td>\n",
              "      <td>0.3</td>\n",
              "      <td>15.30</td>\n",
              "    </tr>\n",
              "    <tr>\n",
              "      <th>2</th>\n",
              "      <td>1</td>\n",
              "      <td>2018-01-01 00:08:26</td>\n",
              "      <td>2018-01-01 00:14:21</td>\n",
              "      <td>2</td>\n",
              "      <td>0.8</td>\n",
              "      <td>1</td>\n",
              "      <td>N</td>\n",
              "      <td>262</td>\n",
              "      <td>141</td>\n",
              "      <td>1</td>\n",
              "      <td>6.0</td>\n",
              "      <td>0.5</td>\n",
              "      <td>0.5</td>\n",
              "      <td>1.00</td>\n",
              "      <td>0.0</td>\n",
              "      <td>0.3</td>\n",
              "      <td>8.30</td>\n",
              "    </tr>\n",
              "    <tr>\n",
              "      <th>3</th>\n",
              "      <td>1</td>\n",
              "      <td>2018-01-01 00:20:22</td>\n",
              "      <td>2018-01-01 00:52:51</td>\n",
              "      <td>1</td>\n",
              "      <td>10.2</td>\n",
              "      <td>1</td>\n",
              "      <td>N</td>\n",
              "      <td>140</td>\n",
              "      <td>257</td>\n",
              "      <td>2</td>\n",
              "      <td>33.5</td>\n",
              "      <td>0.5</td>\n",
              "      <td>0.5</td>\n",
              "      <td>0.00</td>\n",
              "      <td>0.0</td>\n",
              "      <td>0.3</td>\n",
              "      <td>34.80</td>\n",
              "    </tr>\n",
              "    <tr>\n",
              "      <th>4</th>\n",
              "      <td>1</td>\n",
              "      <td>2018-01-01 00:09:18</td>\n",
              "      <td>2018-01-01 00:27:06</td>\n",
              "      <td>2</td>\n",
              "      <td>2.5</td>\n",
              "      <td>1</td>\n",
              "      <td>N</td>\n",
              "      <td>246</td>\n",
              "      <td>239</td>\n",
              "      <td>1</td>\n",
              "      <td>12.5</td>\n",
              "      <td>0.5</td>\n",
              "      <td>0.5</td>\n",
              "      <td>2.75</td>\n",
              "      <td>0.0</td>\n",
              "      <td>0.3</td>\n",
              "      <td>16.55</td>\n",
              "    </tr>\n",
              "  </tbody>\n",
              "</table>\n",
              "</div>"
            ],
            "text/plain": [
              "   VendorID tpep_pickup_datetime tpep_dropoff_datetime  passenger_count  \\\n",
              "0         1  2018-01-01 00:21:05   2018-01-01 00:24:23                1   \n",
              "1         1  2018-01-01 00:44:55   2018-01-01 01:03:05                1   \n",
              "2         1  2018-01-01 00:08:26   2018-01-01 00:14:21                2   \n",
              "3         1  2018-01-01 00:20:22   2018-01-01 00:52:51                1   \n",
              "4         1  2018-01-01 00:09:18   2018-01-01 00:27:06                2   \n",
              "\n",
              "   trip_distance  RatecodeID store_and_fwd_flag  PULocationID  DOLocationID  \\\n",
              "0            0.5           1                  N            41            24   \n",
              "1            2.7           1                  N           239           140   \n",
              "2            0.8           1                  N           262           141   \n",
              "3           10.2           1                  N           140           257   \n",
              "4            2.5           1                  N           246           239   \n",
              "\n",
              "   payment_type  fare_amount  extra  mta_tax  tip_amount  tolls_amount  \\\n",
              "0             2          4.5    0.5      0.5        0.00           0.0   \n",
              "1             2         14.0    0.5      0.5        0.00           0.0   \n",
              "2             1          6.0    0.5      0.5        1.00           0.0   \n",
              "3             2         33.5    0.5      0.5        0.00           0.0   \n",
              "4             1         12.5    0.5      0.5        2.75           0.0   \n",
              "\n",
              "   improvement_surcharge  total_amount  \n",
              "0                    0.3          5.80  \n",
              "1                    0.3         15.30  \n",
              "2                    0.3          8.30  \n",
              "3                    0.3         34.80  \n",
              "4                    0.3         16.55  "
            ]
          },
          "metadata": {
            "tags": []
          },
          "execution_count": 77
        }
      ]
    },
    {
      "cell_type": "code",
      "metadata": {
        "id": "3TXqERoPbe9H",
        "colab_type": "code",
        "colab": {}
      },
      "source": [
        "def cuenta_viajes_tardados(df):\n",
        "  df['duracion'] = (df.tpep_dropoff_datetime - df.tpep_pickup_datetime).dt.seconds\n",
        "  es_viaje_tardado = df.duracion > 1200\n",
        "  result_dict = {'n_long': [sum(es_viaje_tardado)], 'n_total': [len(df)]}\n",
        "  return pd.DataFrame(result_dict)"
      ],
      "execution_count": 0,
      "outputs": []
    },
    {
      "cell_type": "code",
      "metadata": {
        "id": "pgnhsG4pdMet",
        "colab_type": "code",
        "colab": {}
      },
      "source": [
        "archivos = [plantilla.format(y) for y in range (1,4)]"
      ],
      "execution_count": 0,
      "outputs": []
    },
    {
      "cell_type": "code",
      "metadata": {
        "id": "TYRd651-dW4K",
        "colab_type": "code",
        "colab": {}
      },
      "source": [
        "dataframes = (pd.read_csv(archivo, parse_dates=[1,2]) for archivo in archivos)"
      ],
      "execution_count": 0,
      "outputs": []
    },
    {
      "cell_type": "code",
      "metadata": {
        "id": "UG4RYOwJdvxi",
        "colab_type": "code",
        "colab": {}
      },
      "source": [
        "totales = (cuenta_viajes_tardados(df) for df in dataframes)"
      ],
      "execution_count": 0,
      "outputs": []
    },
    {
      "cell_type": "code",
      "metadata": {
        "id": "hhbhN_RIeB_e",
        "colab_type": "code",
        "colab": {}
      },
      "source": [
        "totales_trimestrales = sum(totales)"
      ],
      "execution_count": 0,
      "outputs": []
    },
    {
      "cell_type": "code",
      "metadata": {
        "id": "8QkGucZjeDEg",
        "colab_type": "code",
        "colab": {
          "base_uri": "https://localhost:8080/",
          "height": 77
        },
        "outputId": "e38d9cf8-2e38-40f8-9e48-3be9ab911d9b"
      },
      "source": [
        "totales_trimestrales"
      ],
      "execution_count": 85,
      "outputs": [
        {
          "output_type": "execute_result",
          "data": {
            "text/html": [
              "<div>\n",
              "<style scoped>\n",
              "    .dataframe tbody tr th:only-of-type {\n",
              "        vertical-align: middle;\n",
              "    }\n",
              "\n",
              "    .dataframe tbody tr th {\n",
              "        vertical-align: top;\n",
              "    }\n",
              "\n",
              "    .dataframe thead th {\n",
              "        text-align: right;\n",
              "    }\n",
              "</style>\n",
              "<table border=\"1\" class=\"dataframe\">\n",
              "  <thead>\n",
              "    <tr style=\"text-align: right;\">\n",
              "      <th></th>\n",
              "      <th>n_long</th>\n",
              "      <th>n_total</th>\n",
              "    </tr>\n",
              "  </thead>\n",
              "  <tbody>\n",
              "    <tr>\n",
              "      <th>0</th>\n",
              "      <td>4942465</td>\n",
              "      <td>26682326</td>\n",
              "    </tr>\n",
              "  </tbody>\n",
              "</table>\n",
              "</div>"
            ],
            "text/plain": [
              "    n_long   n_total\n",
              "0  4942465  26682326"
            ]
          },
          "metadata": {
            "tags": []
          },
          "execution_count": 85
        }
      ]
    },
    {
      "cell_type": "code",
      "metadata": {
        "id": "pexL7uH2fKyz",
        "colab_type": "code",
        "colab": {
          "base_uri": "https://localhost:8080/",
          "height": 50
        },
        "outputId": "5977139c-70b6-4cc2-db97-189ffb37b3cc"
      },
      "source": [
        "totales_trimestrales['n_long']/totales_trimestrales['n_total']"
      ],
      "execution_count": 86,
      "outputs": [
        {
          "output_type": "execute_result",
          "data": {
            "text/plain": [
              "0    0.185234\n",
              "dtype: float64"
            ]
          },
          "metadata": {
            "tags": []
          },
          "execution_count": 86
        }
      ]
    }
  ]
}