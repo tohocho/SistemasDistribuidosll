{
  "nbformat": 4,
  "nbformat_minor": 0,
  "metadata": {
    "colab": {
      "name": "Clase_SDUll_21/05/2019.ipynb",
      "version": "0.3.2",
      "provenance": [],
      "collapsed_sections": [],
      "include_colab_link": true
    },
    "kernelspec": {
      "name": "python3",
      "display_name": "Python 3"
    }
  },
  "cells": [
    {
      "cell_type": "markdown",
      "metadata": {
        "id": "view-in-github",
        "colab_type": "text"
      },
      "source": [
        "<a href=\"https://colab.research.google.com/github/tohocho/SistemasDistribuidosll/blob/master/Clase_SDUll_21_05_2019.ipynb\" target=\"_parent\"><img src=\"https://colab.research.google.com/assets/colab-badge.svg\" alt=\"Open In Colab\"/></a>"
      ]
    },
    {
      "cell_type": "markdown",
      "metadata": {
        "id": "Z1VTHjTAAOSK",
        "colab_type": "text"
      },
      "source": [
        "#Problemas ridiculamente paralelizables\n",
        "\n",
        "Se define como la trivialidad de dividir los datos en pedazos y aplicarle las mismas condiciones a cada uno de esos pedazos"
      ]
    },
    {
      "cell_type": "code",
      "metadata": {
        "id": "mPV47kXOJbiF",
        "colab_type": "code",
        "colab": {}
      },
      "source": [
        "from math import sqrt\n",
        "from dask import delayed\n",
        "import os\n",
        "from time import sleep\n",
        "import pandas as pd"
      ],
      "execution_count": 0,
      "outputs": []
    },
    {
      "cell_type": "code",
      "metadata": {
        "id": "b5Ey1SG9KAYV",
        "colab_type": "code",
        "colab": {}
      },
      "source": [
        "def f(z):\n",
        "  return sqrt(z+4)\n",
        "\n",
        "def g(y):\n",
        "  return y-3\n",
        "\n",
        "def h(x):\n",
        "  return x**2"
      ],
      "execution_count": 0,
      "outputs": []
    },
    {
      "cell_type": "code",
      "metadata": {
        "id": "ov_zoFIJK-72",
        "colab_type": "code",
        "colab": {
          "base_uri": "https://localhost:8080/",
          "height": 34
        },
        "outputId": "2366d992-ede1-4828-80e5-a145cd651a2c"
      },
      "source": [
        "x=4\n",
        "y = h(x)\n",
        "z = g(y)\n",
        "w = f(z)\n",
        "w\n",
        "  "
      ],
      "execution_count": 4,
      "outputs": [
        {
          "output_type": "execute_result",
          "data": {
            "text/plain": [
              "4.123105625617661"
            ]
          },
          "metadata": {
            "tags": []
          },
          "execution_count": 4
        }
      ]
    },
    {
      "cell_type": "markdown",
      "metadata": {
        "id": "iDmNx0tXLOog",
        "colab_type": "text"
      },
      "source": [
        "w = f(g(h(x)))\n",
        "w"
      ]
    },
    {
      "cell_type": "code",
      "metadata": {
        "id": "YulZKpgTL6up",
        "colab_type": "code",
        "colab": {}
      },
      "source": [
        "data = [1, 2, 3, 4, 5]"
      ],
      "execution_count": 0,
      "outputs": []
    },
    {
      "cell_type": "code",
      "metadata": {
        "id": "tXQ3LivtL_GE",
        "colab_type": "code",
        "colab": {
          "base_uri": "https://localhost:8080/",
          "height": 101
        },
        "outputId": "ddd64cc4-2f41-4355-96b1-1c95b2a4b296"
      },
      "source": [
        "for x in data:\n",
        "  print(f(g(h(x))))"
      ],
      "execution_count": 7,
      "outputs": [
        {
          "output_type": "stream",
          "text": [
            "1.4142135623730951\n",
            "2.23606797749979\n",
            "3.1622776601683795\n",
            "4.123105625617661\n",
            "5.0990195135927845\n"
          ],
          "name": "stdout"
        }
      ]
    },
    {
      "cell_type": "code",
      "metadata": {
        "id": "ix72baAvMKcu",
        "colab_type": "code",
        "colab": {
          "base_uri": "https://localhost:8080/",
          "height": 134
        },
        "outputId": "d4dd43f8-2cd8-4488-cf2d-e3ece08024a9"
      },
      "source": [
        "%%time\n",
        "[f(g(h(x))) for x in data] #Comprensión de listas"
      ],
      "execution_count": 9,
      "outputs": [
        {
          "output_type": "stream",
          "text": [
            "CPU times: user 11 µs, sys: 2 µs, total: 13 µs\n",
            "Wall time: 16.7 µs\n"
          ],
          "name": "stdout"
        },
        {
          "output_type": "execute_result",
          "data": {
            "text/plain": [
              "[1.4142135623730951,\n",
              " 2.23606797749979,\n",
              " 3.1622776601683795,\n",
              " 4.123105625617661,\n",
              " 5.0990195135927845]"
            ]
          },
          "metadata": {
            "tags": []
          },
          "execution_count": 9
        }
      ]
    },
    {
      "cell_type": "markdown",
      "metadata": {
        "id": "w_HKiXerNgzg",
        "colab_type": "text"
      },
      "source": [
        "La lista anterior se genera secuencialmente, ¿cómo la podemos generar en forma paralela?"
      ]
    },
    {
      "cell_type": "code",
      "metadata": {
        "id": "lTG7K2jlNOUs",
        "colab_type": "code",
        "colab": {
          "base_uri": "https://localhost:8080/",
          "height": 34
        },
        "outputId": "07555f0e-7384-4192-b806-e5ced63b612e"
      },
      "source": [
        "x=4\n",
        "y = delayed(h)(x)\n",
        "z = delayed(g)(y)\n",
        "w = delayed(f)(z)\n",
        "print(w)"
      ],
      "execution_count": 15,
      "outputs": [
        {
          "output_type": "stream",
          "text": [
            "Delayed('f-0bf3be70-e62c-4753-8b48-7569e9ceb710')\n"
          ],
          "name": "stdout"
        }
      ]
    },
    {
      "cell_type": "code",
      "metadata": {
        "id": "PIKJ3IcmOYdb",
        "colab_type": "code",
        "colab": {
          "base_uri": "https://localhost:8080/",
          "height": 34
        },
        "outputId": "afc44329-fe47-4c3e-9521-6762658814b9"
      },
      "source": [
        "type(w)"
      ],
      "execution_count": 19,
      "outputs": [
        {
          "output_type": "execute_result",
          "data": {
            "text/plain": [
              "dask.delayed.Delayed"
            ]
          },
          "metadata": {
            "tags": []
          },
          "execution_count": 19
        }
      ]
    },
    {
      "cell_type": "code",
      "metadata": {
        "id": "veUSaxIuOkB4",
        "colab_type": "code",
        "colab": {
          "base_uri": "https://localhost:8080/",
          "height": 34
        },
        "outputId": "9025f7fd-174b-4cea-cd25-20debe1a9b0f"
      },
      "source": [
        "w.compute()"
      ],
      "execution_count": 20,
      "outputs": [
        {
          "output_type": "execute_result",
          "data": {
            "text/plain": [
              "4.123105625617661"
            ]
          },
          "metadata": {
            "tags": []
          },
          "execution_count": 20
        }
      ]
    },
    {
      "cell_type": "code",
      "metadata": {
        "id": "GoFsQ8AQOlG5",
        "colab_type": "code",
        "colab": {
          "base_uri": "https://localhost:8080/",
          "height": 76
        },
        "outputId": "5391468c-f73b-45b2-8543-844fe85aedf9"
      },
      "source": [
        "w.visualize(rankdir='LR')"
      ],
      "execution_count": 27,
      "outputs": [
        {
          "output_type": "execute_result",
          "data": {
            "image/png": "[encoded data removed]",
            "text/plain": [
              "<IPython.core.display.Image object>"
            ]
          },
          "metadata": {
            "tags": []
          },
          "execution_count": 27
        }
      ]
    },
    {
      "cell_type": "code",
      "metadata": {
        "id": "y4xuORTHPM85",
        "colab_type": "code",
        "colab": {
          "base_uri": "https://localhost:8080/",
          "height": 34
        },
        "outputId": "25e96f38-056a-41b4-b7c1-01fd1e1011e9"
      },
      "source": [
        "h(x)"
      ],
      "execution_count": 28,
      "outputs": [
        {
          "output_type": "execute_result",
          "data": {
            "text/plain": [
              "16"
            ]
          },
          "metadata": {
            "tags": []
          },
          "execution_count": 28
        }
      ]
    },
    {
      "cell_type": "code",
      "metadata": {
        "id": "o16UNY_zQhX9",
        "colab_type": "code",
        "colab": {}
      },
      "source": [
        "def f(x):\n",
        "  return sqrt(x+4)\n",
        "\n",
        "f = delayed(f)"
      ],
      "execution_count": 0,
      "outputs": []
    },
    {
      "cell_type": "code",
      "metadata": {
        "id": "EZRGsWB0QtTh",
        "colab_type": "code",
        "colab": {
          "base_uri": "https://localhost:8080/",
          "height": 34
        },
        "outputId": "c6369f9f-7e04-4708-9d91-e198faece2f5"
      },
      "source": [
        "@delayed\n",
        "def f(x):\n",
        "  return sqrt(x+4)\n",
        "\n",
        "print(type(f))"
      ],
      "execution_count": 30,
      "outputs": [
        {
          "output_type": "stream",
          "text": [
            "<class 'dask.delayed.DelayedLeaf'>\n"
          ],
          "name": "stdout"
        }
      ]
    },
    {
      "cell_type": "markdown",
      "metadata": {
        "id": "SrA2Z3pdRHCK",
        "colab_type": "text"
      },
      "source": [
        "Ejemplo usando decoradores"
      ]
    },
    {
      "cell_type": "code",
      "metadata": {
        "id": "QKcU5W5LRI4a",
        "colab_type": "code",
        "colab": {}
      },
      "source": [
        "@delayed\n",
        "def incrementa(x):\n",
        "  return x+1\n",
        "\n",
        "@delayed\n",
        "def dobla(x):\n",
        "  return 2*x\n",
        "\n",
        "@delayed\n",
        "def suma (x,y):\n",
        "  return x+y"
      ],
      "execution_count": 0,
      "outputs": []
    },
    {
      "cell_type": "code",
      "metadata": {
        "id": "l-DcAKfhRjio",
        "colab_type": "code",
        "colab": {
          "base_uri": "https://localhost:8080/",
          "height": 162
        },
        "outputId": "bc24fa8b-95e5-4d8e-a883-f0b143a4482f"
      },
      "source": [
        "data"
      ],
      "execution_count": 6,
      "outputs": [
        {
          "output_type": "error",
          "ename": "NameError",
          "evalue": "ignored",
          "traceback": [
            "\u001b[0;31m---------------------------------------------------------------------------\u001b[0m",
            "\u001b[0;31mNameError\u001b[0m                                 Traceback (most recent call last)",
            "\u001b[0;32m<ipython-input-6-c5d84736ba45>\u001b[0m in \u001b[0;36m<module>\u001b[0;34m()\u001b[0m\n\u001b[0;32m----> 1\u001b[0;31m \u001b[0mdata\u001b[0m\u001b[0;34m\u001b[0m\u001b[0;34m\u001b[0m\u001b[0m\n\u001b[0m",
            "\u001b[0;31mNameError\u001b[0m: name 'data' is not defined"
          ]
        }
      ]
    },
    {
      "cell_type": "code",
      "metadata": {
        "id": "aq9-cMNZRma5",
        "colab_type": "code",
        "colab": {}
      },
      "source": [
        "output = []\n",
        "for x in data:\n",
        "  a = incrementa(x)\n",
        "  b = dobla(x)\n",
        "  c = suma (a,b)\n",
        "  \n",
        "  output.append(c)"
      ],
      "execution_count": 0,
      "outputs": []
    },
    {
      "cell_type": "code",
      "metadata": {
        "id": "gOYUWXSCSE2v",
        "colab_type": "code",
        "colab": {
          "base_uri": "https://localhost:8080/",
          "height": 101
        },
        "outputId": "f0fe6bb3-713b-4949-ba62-cb68622443bd"
      },
      "source": [
        "output()"
      ],
      "execution_count": 35,
      "outputs": [
        {
          "output_type": "execute_result",
          "data": {
            "text/plain": [
              "[Delayed('suma-771503ac-46e3-4276-9357-e02625f0dad8'),\n",
              " Delayed('suma-ff23157e-0471-46df-9706-cda82d375ee8'),\n",
              " Delayed('suma-2d55d5e8-c000-4ee1-89c3-920d20146677'),\n",
              " Delayed('suma-c4b5a7f9-ac12-4fe4-b779-a09a2c340607'),\n",
              " Delayed('suma-9906382c-468e-4eaf-8e86-3dcf3f4bfa23')]"
            ]
          },
          "metadata": {
            "tags": []
          },
          "execution_count": 35
        }
      ]
    },
    {
      "cell_type": "code",
      "metadata": {
        "id": "9Cm-NMdFSTcD",
        "colab_type": "code",
        "colab": {
          "base_uri": "https://localhost:8080/",
          "height": 34
        },
        "outputId": "b2af04c5-981f-481e-b6dc-971665d00e66"
      },
      "source": [
        "total = sum(output)\n",
        "type(total)"
      ],
      "execution_count": 38,
      "outputs": [
        {
          "output_type": "execute_result",
          "data": {
            "text/plain": [
              "dask.delayed.Delayed"
            ]
          },
          "metadata": {
            "tags": []
          },
          "execution_count": 38
        }
      ]
    },
    {
      "cell_type": "code",
      "metadata": {
        "id": "iOCAQS3GUflz",
        "colab_type": "code",
        "colab": {
          "base_uri": "https://localhost:8080/",
          "height": 34
        },
        "outputId": "322d4156-5106-42cc-f35d-ffd7846f1fa6"
      },
      "source": [
        "[res.compute() for res in output]"
      ],
      "execution_count": 44,
      "outputs": [
        {
          "output_type": "execute_result",
          "data": {
            "text/plain": [
              "[4, 7, 10, 13, 16]"
            ]
          },
          "metadata": {
            "tags": []
          },
          "execution_count": 44
        }
      ]
    },
    {
      "cell_type": "code",
      "metadata": {
        "id": "RvoC2iWGSoAU",
        "colab_type": "code",
        "colab": {}
      },
      "source": [
        "total.visualize(rankdir='LR')"
      ],
      "execution_count": 0,
      "outputs": []
    },
    {
      "cell_type": "code",
      "metadata": {
        "id": "Z3YWXyGoTlZL",
        "colab_type": "code",
        "colab": {
          "base_uri": "https://localhost:8080/",
          "height": 34
        },
        "outputId": "eab5032b-0bc2-4052-a370-0b80a29bc768"
      },
      "source": [
        "total.compute()"
      ],
      "execution_count": 42,
      "outputs": [
        {
          "output_type": "execute_result",
          "data": {
            "text/plain": [
              "50"
            ]
          },
          "metadata": {
            "tags": []
          },
          "execution_count": 42
        }
      ]
    },
    {
      "cell_type": "code",
      "metadata": {
        "id": "03T4amrpVehr",
        "colab_type": "code",
        "colab": {}
      },
      "source": [
        "#@delayed\n",
        "def incrementa(x):\n",
        "  return x+1\n",
        "\n",
        "#@delayed\n",
        "def dobla(x):\n",
        "  return 2*x\n",
        "\n",
        "#@delayed\n",
        "def suma (x,y):\n",
        "  return x+y"
      ],
      "execution_count": 0,
      "outputs": []
    },
    {
      "cell_type": "code",
      "metadata": {
        "id": "PSLsG-ooVkMq",
        "colab_type": "code",
        "colab": {
          "base_uri": "https://localhost:8080/",
          "height": 34
        },
        "outputId": "327291cf-f0a0-42e2-bbb6-a54063a90467"
      },
      "source": [
        "type(suma)"
      ],
      "execution_count": 48,
      "outputs": [
        {
          "output_type": "execute_result",
          "data": {
            "text/plain": [
              "function"
            ]
          },
          "metadata": {
            "tags": []
          },
          "execution_count": 48
        }
      ]
    },
    {
      "cell_type": "code",
      "metadata": {
        "id": "L4jxoE8iUGYa",
        "colab_type": "code",
        "colab": {
          "base_uri": "https://localhost:8080/",
          "height": 50
        },
        "outputId": "c653136f-7a1e-4cc8-8aa1-f29b184f5f0d"
      },
      "source": [
        "%%time\n",
        "a = incrementa (1)\n",
        "b = dobla(2)\n",
        "c = suma(a,b)"
      ],
      "execution_count": 54,
      "outputs": [
        {
          "output_type": "stream",
          "text": [
            "CPU times: user 973 µs, sys: 0 ns, total: 973 µs\n",
            "Wall time: 3.67 ms\n"
          ],
          "name": "stdout"
        }
      ]
    },
    {
      "cell_type": "code",
      "metadata": {
        "id": "Sxh-iOlAWNOF",
        "colab_type": "code",
        "colab": {
          "base_uri": "https://localhost:8080/",
          "height": 67
        },
        "outputId": "42050339-c993-43bc-af65-ab6a0100aabf"
      },
      "source": [
        "%%time\n",
        "c.compute()"
      ],
      "execution_count": 55,
      "outputs": [
        {
          "output_type": "stream",
          "text": [
            "CPU times: user 3.31 ms, sys: 58 µs, total: 3.37 ms\n",
            "Wall time: 3 ms\n"
          ],
          "name": "stdout"
        },
        {
          "output_type": "execute_result",
          "data": {
            "text/plain": [
              "6"
            ]
          },
          "metadata": {
            "tags": []
          },
          "execution_count": 55
        }
      ]
    },
    {
      "cell_type": "code",
      "metadata": {
        "id": "yDD81IDubCCh",
        "colab_type": "code",
        "colab": {}
      },
      "source": [
        "def inc(x):\n",
        "  sleep(1)\n",
        "  return x+1"
      ],
      "execution_count": 0,
      "outputs": []
    },
    {
      "cell_type": "code",
      "metadata": {
        "id": "1BPRT3NPbLiu",
        "colab_type": "code",
        "colab": {
          "base_uri": "https://localhost:8080/",
          "height": 50
        },
        "outputId": "d8746fb0-9f27-447b-81c3-919f9160fc22"
      },
      "source": [
        "%%time\n",
        "res =[]\n",
        "for x in data:\n",
        "  y = inc(x)\n",
        "  res.append(y)\n",
        "  \n",
        "total = sum(res)"
      ],
      "execution_count": 10,
      "outputs": [
        {
          "output_type": "stream",
          "text": [
            "CPU times: user 1.16 ms, sys: 1.06 ms, total: 2.22 ms\n",
            "Wall time: 5 s\n"
          ],
          "name": "stdout"
        }
      ]
    },
    {
      "cell_type": "code",
      "metadata": {
        "id": "na-Bmc7sb2wT",
        "colab_type": "code",
        "colab": {
          "base_uri": "https://localhost:8080/",
          "height": 50
        },
        "outputId": "c4cedbc7-0188-4034-9748-710228e206a4"
      },
      "source": [
        "#Paralelo\n",
        "%%time\n",
        "res =[]\n",
        "for x in data:\n",
        "  y = delayed(inc)(x)\n",
        "  res.append(y)\n",
        "  \n",
        "total = delayed(sum)(res)\n",
        "total.compute()"
      ],
      "execution_count": 13,
      "outputs": [
        {
          "output_type": "stream",
          "text": [
            "CPU times: user 8.58 ms, sys: 4.84 ms, total: 13.4 ms\n",
            "Wall time: 3.01 s\n"
          ],
          "name": "stdout"
        }
      ]
    },
    {
      "cell_type": "code",
      "metadata": {
        "id": "m_BUfa-GcZWI",
        "colab_type": "code",
        "colab": {
          "base_uri": "https://localhost:8080/",
          "height": 417
        },
        "outputId": "7f7fea45-31c0-4676-8cf7-e9a3297cb9d1"
      },
      "source": [
        "total.visualize(rankdir='LR')"
      ],
      "execution_count": 15,
      "outputs": [
        {
          "output_type": "execute_result",
          "data": {
            "image/png": "[encoded data removed]",
            "text/plain": [
              "<IPython.core.display.Image object>"
            ]
          },
          "metadata": {
            "tags": []
          },
          "execution_count": 15
        }
      ]
    },
    {
      "cell_type": "code",
      "metadata": {
        "id": "JIqg90BwY0Xv",
        "colab_type": "code",
        "colab": {}
      },
      "source": [
        "plantilla = 'yellow_tripdata_2018-{:02d}.csv'\n",
        "plantillaURL='wget https://s3.amazonaws.com/nyc-tlc/trip+data/'+plantilla\n",
        "urls = (plantillaURL.format(k) for k in range (1,13)) #generador\n",
        "for url in urls:\n",
        "  os.system(url)"
      ],
      "execution_count": 0,
      "outputs": []
    },
    {
      "cell_type": "code",
      "metadata": {
        "id": "Q3B_arIYdKOm",
        "colab_type": "code",
        "colab": {}
      },
      "source": [
        "@delayed\n",
        "def cuenta_viajes_tardados(df):\n",
        "  df['duracion'] = (df.tpep_dropoff_datetime - df.tpep_pickup_datetime).dt.seconds\n",
        "  es_viaje_tardado = df.duracion > 1200\n",
        "  result_dict = {'n_long': [sum(es_viaje_tardado)], 'n_total': [len(df)]}\n",
        "  return pd.DataFrame(result_dict)\n",
        "\n",
        "@delayed\n",
        "def abre_archivo(nombre):\n",
        "  return pd.read_csv(nombre, parse_dates=[1,2])"
      ],
      "execution_count": 0,
      "outputs": []
    },
    {
      "cell_type": "code",
      "metadata": {
        "id": "QyWRoB1bd2nM",
        "colab_type": "code",
        "colab": {}
      },
      "source": [
        "archivos = [plantilla.format(k) for k in range (1,12)]"
      ],
      "execution_count": 0,
      "outputs": []
    },
    {
      "cell_type": "code",
      "metadata": {
        "id": "locxyCFsddd8",
        "colab_type": "code",
        "colab": {}
      },
      "source": [
        "total = [cuenta_viajes_tardados(abre_archivo(archivo)) for archivo in archivos]"
      ],
      "execution_count": 0,
      "outputs": []
    },
    {
      "cell_type": "code",
      "metadata": {
        "id": "UmzoDcXkeIw0",
        "colab_type": "code",
        "colab": {}
      },
      "source": [
        "semi_anual = sum(total)"
      ],
      "execution_count": 0,
      "outputs": []
    },
    {
      "cell_type": "code",
      "metadata": {
        "id": "ttYiOEVOeT7I",
        "colab_type": "code",
        "colab": {}
      },
      "source": [
        "semi_anual.visualize(rankdir='LR')"
      ],
      "execution_count": 0,
      "outputs": []
    },
    {
      "cell_type": "code",
      "metadata": {
        "id": "bwovTTE5e-XL",
        "colab_type": "code",
        "colab": {
          "base_uri": "https://localhost:8080/",
          "height": 110
        },
        "outputId": "24a81036-7efd-44fb-9dd9-da4541337ac2"
      },
      "source": [
        "%%time\n",
        "semi_anual.compute()"
      ],
      "execution_count": 44,
      "outputs": [
        {
          "output_type": "stream",
          "text": [
            "CPU times: user 4min 37s, sys: 12.2 s, total: 4min 49s\n",
            "Wall time: 4min 14s\n"
          ],
          "name": "stdout"
        },
        {
          "output_type": "execute_result",
          "data": {
            "text/html": [
              "<div>\n",
              "<style scoped>\n",
              "    .dataframe tbody tr th:only-of-type {\n",
              "        vertical-align: middle;\n",
              "    }\n",
              "\n",
              "    .dataframe tbody tr th {\n",
              "        vertical-align: top;\n",
              "    }\n",
              "\n",
              "    .dataframe thead th {\n",
              "        text-align: right;\n",
              "    }\n",
              "</style>\n",
              "<table border=\"1\" class=\"dataframe\">\n",
              "  <thead>\n",
              "    <tr style=\"text-align: right;\">\n",
              "      <th></th>\n",
              "      <th>n_long</th>\n",
              "      <th>n_total</th>\n",
              "    </tr>\n",
              "  </thead>\n",
              "  <tbody>\n",
              "    <tr>\n",
              "      <th>0</th>\n",
              "      <td>13309676</td>\n",
              "      <td>62378083</td>\n",
              "    </tr>\n",
              "  </tbody>\n",
              "</table>\n",
              "</div>"
            ],
            "text/plain": [
              "     n_long   n_total\n",
              "0  13309676  62378083"
            ]
          },
          "metadata": {
            "tags": []
          },
          "execution_count": 44
        }
      ]
    },
    {
      "cell_type": "markdown",
      "metadata": {
        "id": "fbSxPfEPgReh",
        "colab_type": "text"
      },
      "source": [
        "#Arreglos o matrices usando dask"
      ]
    },
    {
      "cell_type": "code",
      "metadata": {
        "id": "7R_1RmFdgUGD",
        "colab_type": "code",
        "colab": {}
      },
      "source": [
        "import numpy as np\n",
        "import dask.array as da"
      ],
      "execution_count": 0,
      "outputs": []
    },
    {
      "cell_type": "code",
      "metadata": {
        "id": "Dtugoot2gW25",
        "colab_type": "code",
        "colab": {}
      },
      "source": [
        "a = np.random.rand(10000)"
      ],
      "execution_count": 0,
      "outputs": []
    },
    {
      "cell_type": "code",
      "metadata": {
        "id": "5nuUkuuwhL6x",
        "colab_type": "code",
        "colab": {
          "base_uri": "https://localhost:8080/",
          "height": 34
        },
        "outputId": "879a8e68-715c-4f51-c68e-e81761efc5fc"
      },
      "source": [
        "print (a.shape, a.dtype, a.nbytes)"
      ],
      "execution_count": 49,
      "outputs": [
        {
          "output_type": "stream",
          "text": [
            "(10000,) float64 80000\n"
          ],
          "name": "stdout"
        }
      ]
    },
    {
      "cell_type": "code",
      "metadata": {
        "id": "lA5iH2f6hcdY",
        "colab_type": "code",
        "colab": {
          "base_uri": "https://localhost:8080/",
          "height": 34
        },
        "outputId": "9c1fdf92-b130-4995-d9f9-d740e1739c76"
      },
      "source": [
        "a.sum()"
      ],
      "execution_count": 57,
      "outputs": [
        {
          "output_type": "execute_result",
          "data": {
            "text/plain": [
              "4973.770026648407"
            ]
          },
          "metadata": {
            "tags": []
          },
          "execution_count": 57
        }
      ]
    },
    {
      "cell_type": "code",
      "metadata": {
        "id": "JHQ6CaVkhskj",
        "colab_type": "code",
        "colab": {
          "base_uri": "https://localhost:8080/",
          "height": 34
        },
        "outputId": "eb462046-8c24-4ce8-d7fb-2a49c29cdc4d"
      },
      "source": [
        "a.mean()"
      ],
      "execution_count": 58,
      "outputs": [
        {
          "output_type": "execute_result",
          "data": {
            "text/plain": [
              "0.4973770026648407"
            ]
          },
          "metadata": {
            "tags": []
          },
          "execution_count": 58
        }
      ]
    },
    {
      "cell_type": "code",
      "metadata": {
        "id": "ZIZ6DFI4hz0X",
        "colab_type": "code",
        "colab": {}
      },
      "source": [
        "a_dask = da.from_array(a,chunks=len(a)//3)"
      ],
      "execution_count": 0,
      "outputs": []
    },
    {
      "cell_type": "code",
      "metadata": {
        "id": "A7cNO6q0iXlC",
        "colab_type": "code",
        "colab": {
          "base_uri": "https://localhost:8080/",
          "height": 34
        },
        "outputId": "5fc6c664-ff53-4c2b-9348-bb6a793effe6"
      },
      "source": [
        "type(a_dask)"
      ],
      "execution_count": 85,
      "outputs": [
        {
          "output_type": "execute_result",
          "data": {
            "text/plain": [
              "dask.array.core.Array"
            ]
          },
          "metadata": {
            "tags": []
          },
          "execution_count": 85
        }
      ]
    },
    {
      "cell_type": "code",
      "metadata": {
        "id": "m-dqTmbFighK",
        "colab_type": "code",
        "colab": {
          "base_uri": "https://localhost:8080/",
          "height": 34
        },
        "outputId": "8f67049d-8778-4be3-fa40-765492623b32"
      },
      "source": [
        "a_dask.chunks"
      ],
      "execution_count": 96,
      "outputs": [
        {
          "output_type": "execute_result",
          "data": {
            "text/plain": [
              "((3333, 3333, 3333, 1),)"
            ]
          },
          "metadata": {
            "tags": []
          },
          "execution_count": 96
        }
      ]
    },
    {
      "cell_type": "code",
      "metadata": {
        "id": "uyjhDOkUjLPQ",
        "colab_type": "code",
        "colab": {}
      },
      "source": [
        "n_chunks = 8\n",
        "chunk_size = len(a)// n_chunks\n",
        "result = 0"
      ],
      "execution_count": 0,
      "outputs": []
    },
    {
      "cell_type": "code",
      "metadata": {
        "id": "wM-nLmXwjm_l",
        "colab_type": "code",
        "colab": {}
      },
      "source": [
        "for k in range (n_chunks):\n",
        "  offset = k*chunk_size\n",
        "  a_chunk = a[offset:offset+chunk_size]\n",
        "  result +=a_chunk.sum()"
      ],
      "execution_count": 0,
      "outputs": []
    },
    {
      "cell_type": "code",
      "metadata": {
        "id": "z-U4ZkL3kuXc",
        "colab_type": "code",
        "colab": {
          "base_uri": "https://localhost:8080/",
          "height": 34
        },
        "outputId": "22efa06f-e8d5-4a1f-91e2-559df2812dc3"
      },
      "source": [
        "print(result)"
      ],
      "execution_count": 99,
      "outputs": [
        {
          "output_type": "stream",
          "text": [
            "4973.770026648408\n"
          ],
          "name": "stdout"
        }
      ]
    },
    {
      "cell_type": "code",
      "metadata": {
        "id": "VcZOQhexkzL_",
        "colab_type": "code",
        "colab": {
          "base_uri": "https://localhost:8080/",
          "height": 34
        },
        "outputId": "bf4c427a-4125-4908-99d8-9d00f1c07247"
      },
      "source": [
        "a.sum()"
      ],
      "execution_count": 100,
      "outputs": [
        {
          "output_type": "execute_result",
          "data": {
            "text/plain": [
              "4973.770026648407"
            ]
          },
          "metadata": {
            "tags": []
          },
          "execution_count": 100
        }
      ]
    },
    {
      "cell_type": "code",
      "metadata": {
        "id": "txEq-o5hk1mq",
        "colab_type": "code",
        "colab": {}
      },
      "source": [
        "result_dask = a_dask.sum()"
      ],
      "execution_count": 0,
      "outputs": []
    },
    {
      "cell_type": "code",
      "metadata": {
        "id": "dxFkL97Vk6ln",
        "colab_type": "code",
        "colab": {
          "base_uri": "https://localhost:8080/",
          "height": 34
        },
        "outputId": "059841fb-dd49-426c-b4d2-fdc565a85825"
      },
      "source": [
        "result_dask"
      ],
      "execution_count": 102,
      "outputs": [
        {
          "output_type": "execute_result",
          "data": {
            "text/plain": [
              "dask.array<sum-aggregate, shape=(), dtype=float64, chunksize=()>"
            ]
          },
          "metadata": {
            "tags": []
          },
          "execution_count": 102
        }
      ]
    },
    {
      "cell_type": "code",
      "metadata": {
        "id": "-T9RUVyKlGGu",
        "colab_type": "code",
        "colab": {
          "base_uri": "https://localhost:8080/",
          "height": 34
        },
        "outputId": "eb4c7e9c-fa1d-4c97-f80b-e26359f5b253"
      },
      "source": [
        "result_dask.compute()"
      ],
      "execution_count": 103,
      "outputs": [
        {
          "output_type": "execute_result",
          "data": {
            "text/plain": [
              "4973.770026648407"
            ]
          },
          "metadata": {
            "tags": []
          },
          "execution_count": 103
        }
      ]
    },
    {
      "cell_type": "code",
      "metadata": {
        "id": "IjwmBPRIlWTN",
        "colab_type": "code",
        "colab": {
          "base_uri": "https://localhost:8080/",
          "height": 830
        },
        "outputId": "23ecd762-c5d5-477e-c9f0-95e32accacca"
      },
      "source": [
        "result_dask.visualize(rankdir='lr')"
      ],
      "execution_count": 104,
      "outputs": [
        {
          "output_type": "execute_result",
          "data": {
            "image/png": "[encoded data removed]",
            "text/plain": [
              "<IPython.core.display.Image object>"
            ]
          },
          "metadata": {
            "tags": []
          },
          "execution_count": 104
        }
      ]
    }
  ]
}