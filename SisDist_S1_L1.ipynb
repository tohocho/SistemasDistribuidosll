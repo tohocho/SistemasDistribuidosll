{
  "nbformat": 4,
  "nbformat_minor": 0,
  "metadata": {
    "colab": {
      "name": "SisDist_S1_L1.ipynb",
      "version": "0.3.2",
      "provenance": [],
      "collapsed_sections": [
        "kPAZ9ZUZczNz",
        "aaTfdKXSd_cl",
        "8RN9OnTPeJfD",
        "zgVaGFMxepzr"
      ],
      "include_colab_link": true
    },
    "kernelspec": {
      "name": "python3",
      "display_name": "Python 3"
    }
  },
  "cells": [
    {
      "cell_type": "markdown",
      "metadata": {
        "id": "view-in-github",
        "colab_type": "text"
      },
      "source": [
        "<a href=\"https://colab.research.google.com/github/tohocho/SistemasDistribuidosll/blob/master/SisDist_S1_L1.ipynb\" target=\"_parent\"><img src=\"https://colab.research.google.com/assets/colab-badge.svg\" alt=\"Open In Colab\"/></a>"
      ]
    },
    {
      "cell_type": "code",
      "metadata": {
        "id": "i6aFxYrCWrYe",
        "colab_type": "code",
        "colab": {}
      },
      "source": [
        "import psutil, os"
      ],
      "execution_count": 0,
      "outputs": []
    },
    {
      "cell_type": "code",
      "metadata": {
        "id": "QzV-Rjy6VZV2",
        "colab_type": "code",
        "colab": {}
      },
      "source": [
        "def huella_de_memoria():\n",
        "  '''Regresa la memoria usada por un proceso en Python'''\n",
        "  mem = psutil.Process(os.getpid()).memory_info().rss\n",
        "  return (mem // 1024**2)"
      ],
      "execution_count": 0,
      "outputs": []
    },
    {
      "cell_type": "code",
      "metadata": {
        "id": "H3JRyFmbW4RC",
        "colab_type": "code",
        "colab": {
          "base_uri": "https://localhost:8080/",
          "height": 34
        },
        "outputId": "846c9fd1-8c34-4b96-9a41-0756bec84d78"
      },
      "source": [
        "huella_de_memoria()"
      ],
      "execution_count": 18,
      "outputs": [
        {
          "output_type": "execute_result",
          "data": {
            "text/plain": [
              "214.58203125"
            ]
          },
          "metadata": {
            "tags": []
          },
          "execution_count": 18
        }
      ]
    },
    {
      "cell_type": "code",
      "metadata": {
        "id": "HkAjOrBUW-kG",
        "colab_type": "code",
        "colab": {}
      },
      "source": [
        "import numpy as np"
      ],
      "execution_count": 0,
      "outputs": []
    },
    {
      "cell_type": "code",
      "metadata": {
        "id": "Q4yLJ-s9XBOQ",
        "colab_type": "code",
        "colab": {}
      },
      "source": [
        "antes= huella_de_memoria()"
      ],
      "execution_count": 0,
      "outputs": []
    },
    {
      "cell_type": "markdown",
      "metadata": {
        "id": "wZCABU7rXSSj",
        "colab_type": "text"
      },
      "source": [
        "El profe dijo que N abajo es el número de valores de puntos flotantes que puede meterse en un megabyte"
      ]
    },
    {
      "cell_type": "code",
      "metadata": {
        "id": "xu8nZxAjXLPh",
        "colab_type": "code",
        "colab": {}
      },
      "source": [
        "N = (1024**2)//8"
      ],
      "execution_count": 0,
      "outputs": []
    },
    {
      "cell_type": "code",
      "metadata": {
        "id": "HjKgPooOXPTe",
        "colab_type": "code",
        "colab": {}
      },
      "source": [
        "x= np.random.rand(50*N)"
      ],
      "execution_count": 0,
      "outputs": []
    },
    {
      "cell_type": "code",
      "metadata": {
        "id": "gO_YiDKFX4Qd",
        "colab_type": "code",
        "colab": {}
      },
      "source": [
        "despues = huella_de_memoria()"
      ],
      "execution_count": 0,
      "outputs": []
    },
    {
      "cell_type": "code",
      "metadata": {
        "id": "EOQbxo_8YBjs",
        "colab_type": "code",
        "colab": {
          "base_uri": "https://localhost:8080/",
          "height": 67
        },
        "outputId": "1182bd6e-d668-47ea-c15e-c3e9992ad8fb"
      },
      "source": [
        "print(antes)\n",
        "print(despues)\n",
        "print(despues-antes)"
      ],
      "execution_count": 12,
      "outputs": [
        {
          "output_type": "stream",
          "text": [
            "114\n",
            "164\n",
            "50\n"
          ],
          "name": "stdout"
        }
      ]
    },
    {
      "cell_type": "code",
      "metadata": {
        "id": "5lujgCYwYs9J",
        "colab_type": "code",
        "colab": {}
      },
      "source": [
        "antes = huella_de_memoria()"
      ],
      "execution_count": 0,
      "outputs": []
    },
    {
      "cell_type": "code",
      "metadata": {
        "id": "JaALDg2DYwAn",
        "colab_type": "code",
        "colab": {
          "base_uri": "https://localhost:8080/",
          "height": 50
        },
        "outputId": "73436d9e-f138-4f06-ad4e-22fe113c91c7"
      },
      "source": [
        "x**2"
      ],
      "execution_count": 14,
      "outputs": [
        {
          "output_type": "execute_result",
          "data": {
            "text/plain": [
              "array([0.0482906 , 0.07431936, 0.14254059, ..., 0.55500406, 0.35939038,\n",
              "       0.52857846])"
            ]
          },
          "metadata": {
            "tags": []
          },
          "execution_count": 14
        }
      ]
    },
    {
      "cell_type": "code",
      "metadata": {
        "id": "fAaodzekY1Yj",
        "colab_type": "code",
        "colab": {}
      },
      "source": [
        "despues = huella_de_memoria()"
      ],
      "execution_count": 0,
      "outputs": []
    },
    {
      "cell_type": "code",
      "metadata": {
        "id": "9i3atdJuY6_h",
        "colab_type": "code",
        "colab": {
          "base_uri": "https://localhost:8080/",
          "height": 67
        },
        "outputId": "261ac0d3-fa4b-4a8b-964c-b8d60401e4ae"
      },
      "source": [
        "print(antes)\n",
        "print(despues)\n",
        "print(despues-antes)"
      ],
      "execution_count": 16,
      "outputs": [
        {
          "output_type": "stream",
          "text": [
            "164\n",
            "214\n",
            "50\n"
          ],
          "name": "stdout"
        }
      ]
    },
    {
      "cell_type": "code",
      "metadata": {
        "id": "Lr_leDr_Zqmu",
        "colab_type": "code",
        "colab": {
          "base_uri": "https://localhost:8080/",
          "height": 34
        },
        "outputId": "2cf1aa33-ef39-45b7-fea9-0bdb8c42f409"
      },
      "source": [
        "x.nbytes//(1024**2)"
      ],
      "execution_count": 20,
      "outputs": [
        {
          "output_type": "execute_result",
          "data": {
            "text/plain": [
              "50"
            ]
          },
          "metadata": {
            "tags": []
          },
          "execution_count": 20
        }
      ]
    },
    {
      "cell_type": "code",
      "metadata": {
        "id": "qn79XHT-aT4i",
        "colab_type": "code",
        "colab": {}
      },
      "source": [
        "import pandas as pd"
      ],
      "execution_count": 0,
      "outputs": []
    },
    {
      "cell_type": "code",
      "metadata": {
        "id": "TzmWj4GYaVxM",
        "colab_type": "code",
        "colab": {}
      },
      "source": [
        "df = pd.DataFrame(x)\n",
        "df"
      ],
      "execution_count": 0,
      "outputs": []
    },
    {
      "cell_type": "code",
      "metadata": {
        "id": "CNfC6q75aseZ",
        "colab_type": "code",
        "colab": {
          "base_uri": "https://localhost:8080/",
          "height": 50
        },
        "outputId": "920a53f6-266e-453c-c7fc-3365bd92a7b8"
      },
      "source": [
        "df.memory_usage(index=False)/(1024**2)"
      ],
      "execution_count": 29,
      "outputs": [
        {
          "output_type": "execute_result",
          "data": {
            "text/plain": [
              "0    50.0\n",
              "dtype: float64"
            ]
          },
          "metadata": {
            "tags": []
          },
          "execution_count": 29
        }
      ]
    },
    {
      "cell_type": "markdown",
      "metadata": {
        "id": "wwXVHScvbYyD",
        "colab_type": "text"
      },
      "source": [
        "##Ejercicio\n",
        "\n",
        "Reportar el uso de memoria de la siguiente estructura:\n",
        "\n",
        "1. Memoria del arreglo `celsius`\n",
        "2. Memoria total en MB del proceso __antes__ de realizar la operación en el paso 3\n",
        "3. Convertir `celsius` a `fahrenheit`\n",
        "4.  Indicar la diferencia de memoria __después__ de la operación\n",
        "5. ¿Cuál es la memoria del arreglo `fahrenheit`? (Sin usar el método)\n",
        "6. ¿Cuál es la memoria del arreglo?\n",
        "\n",
        "Fórmula para convertir de `celsius` a `fahrenheit`: 9/5 `celsius` + 32"
      ]
    },
    {
      "cell_type": "code",
      "metadata": {
        "id": "tWQ6cLlXbWf4",
        "colab_type": "code",
        "colab": {}
      },
      "source": [
        "celsius = np.arange(-4.,0.,4/366000)"
      ],
      "execution_count": 0,
      "outputs": []
    },
    {
      "cell_type": "markdown",
      "metadata": {
        "id": "kPAZ9ZUZczNz",
        "colab_type": "text"
      },
      "source": [
        "##Memoria del Arreglo celsius"
      ]
    },
    {
      "cell_type": "code",
      "metadata": {
        "id": "6mT1zH7Pc3Vu",
        "colab_type": "code",
        "colab": {}
      },
      "source": [
        "dfc = pd.DataFrame(celsius)"
      ],
      "execution_count": 0,
      "outputs": []
    },
    {
      "cell_type": "code",
      "metadata": {
        "id": "FIXwl6IIdrS3",
        "colab_type": "code",
        "colab": {
          "base_uri": "https://localhost:8080/",
          "height": 50
        },
        "outputId": "ffa0623e-ed8e-4131-bf1c-6a6749844d91"
      },
      "source": [
        "dfc.memory_usage(index=False)/(1204**2)"
      ],
      "execution_count": 38,
      "outputs": [
        {
          "output_type": "execute_result",
          "data": {
            "text/plain": [
              "0    2.019845\n",
              "dtype: float64"
            ]
          },
          "metadata": {
            "tags": []
          },
          "execution_count": 38
        }
      ]
    },
    {
      "cell_type": "markdown",
      "metadata": {
        "id": "aaTfdKXSd_cl",
        "colab_type": "text"
      },
      "source": [
        "##Memoria total en MB del proceso antes de realizar la operación en el paso 3"
      ]
    },
    {
      "cell_type": "code",
      "metadata": {
        "id": "aNSUzXaqeEsx",
        "colab_type": "code",
        "colab": {
          "base_uri": "https://localhost:8080/",
          "height": 34
        },
        "outputId": "7227d4d1-4c7f-4292-d0f9-f021b87d5316"
      },
      "source": [
        "antes = huella_de_memoria()\n",
        "antes"
      ],
      "execution_count": 41,
      "outputs": [
        {
          "output_type": "execute_result",
          "data": {
            "text/plain": [
              "218"
            ]
          },
          "metadata": {
            "tags": []
          },
          "execution_count": 41
        }
      ]
    },
    {
      "cell_type": "markdown",
      "metadata": {
        "id": "8RN9OnTPeJfD",
        "colab_type": "text"
      },
      "source": [
        "##Convertir `celsius` a `fahrenheit`"
      ]
    },
    {
      "cell_type": "code",
      "metadata": {
        "id": "777f2rT6eXEE",
        "colab_type": "code",
        "colab": {}
      },
      "source": [
        "F = ((celsius*9)/5)+32"
      ],
      "execution_count": 0,
      "outputs": []
    },
    {
      "cell_type": "markdown",
      "metadata": {
        "id": "zgVaGFMxepzr",
        "colab_type": "text"
      },
      "source": [
        "##Indicar la diferencia de memoria después de la operación"
      ]
    },
    {
      "cell_type": "code",
      "metadata": {
        "id": "-0YOBrw6ev2M",
        "colab_type": "code",
        "colab": {
          "base_uri": "https://localhost:8080/",
          "height": 34
        },
        "outputId": "f934db1f-c71d-4473-e087-94aa7cf7d6d9"
      },
      "source": [
        "despues = huella_de_memoria()\n",
        "despues\n",
        "print(despues-antes)"
      ],
      "execution_count": 45,
      "outputs": [
        {
          "output_type": "stream",
          "text": [
            "3\n"
          ],
          "name": "stdout"
        }
      ]
    },
    {
      "cell_type": "markdown",
      "metadata": {
        "id": "4pqgYYEnf63b",
        "colab_type": "text"
      },
      "source": [
        "##Tarea\n",
        "\n",
        "Realizar los pasos anteriores en libreta de Jupyter"
      ]
    },
    {
      "cell_type": "code",
      "metadata": {
        "id": "mG4yu7wAgAHb",
        "colab_type": "code",
        "colab": {}
      },
      "source": [
        ""
      ],
      "execution_count": 0,
      "outputs": []
    }
  ]
}